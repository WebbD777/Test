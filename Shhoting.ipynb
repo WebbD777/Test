{
  "nbformat": 4,
  "nbformat_minor": 0,
  "metadata": {
    "colab": {
      "provenance": [],
      "authorship_tag": "ABX9TyNSFxH0wxTA9CVCjEKSafy2",
      "include_colab_link": true
    },
    "kernelspec": {
      "name": "python3",
      "display_name": "Python 3"
    },
    "language_info": {
      "name": "python"
    }
  },
  "cells": [
    {
      "cell_type": "markdown",
      "metadata": {
        "id": "view-in-github",
        "colab_type": "text"
      },
      "source": [
        "<a href=\"https://colab.research.google.com/github/WebbD777/Test/blob/main/Shhoting.ipynb\" target=\"_parent\"><img src=\"https://colab.research.google.com/assets/colab-badge.svg\" alt=\"Open In Colab\"/></a>"
      ]
    },
    {
      "cell_type": "code",
      "execution_count": 3,
      "metadata": {
        "colab": {
          "base_uri": "https://localhost:8080/",
          "height": 349
        },
        "id": "5GuzdEDrZy4H",
        "outputId": "a1b5eab0-4903-4bc9-fa40-2f4de99190f5"
      },
      "outputs": [
        {
          "output_type": "error",
          "ename": "TypeError",
          "evalue": "'int' object is not iterable",
          "traceback": [
            "\u001b[0;31m---------------------------------------------------------------------------\u001b[0m",
            "\u001b[0;31mTypeError\u001b[0m                                 Traceback (most recent call last)",
            "\u001b[0;32m<ipython-input-3-04e8ae200e00>\u001b[0m in \u001b[0;36m<cell line: 0>\u001b[0;34m()\u001b[0m\n\u001b[1;32m     38\u001b[0m     \u001b[0mwArr\u001b[0m\u001b[0;34m.\u001b[0m\u001b[0mappend\u001b[0m\u001b[0;34m(\u001b[0m\u001b[0;36m1\u001b[0m\u001b[0;34m)\u001b[0m\u001b[0;34m\u001b[0m\u001b[0;34m\u001b[0m\u001b[0m\n\u001b[1;32m     39\u001b[0m \u001b[0;34m\u001b[0m\u001b[0m\n\u001b[0;32m---> 40\u001b[0;31m     \u001b[0msolution\u001b[0m \u001b[0;34m=\u001b[0m \u001b[0msolve_ivp\u001b[0m\u001b[0;34m(\u001b[0m\u001b[0mIVP\u001b[0m\u001b[0;34m,\u001b[0m \u001b[0myArr\u001b[0m\u001b[0;34m[\u001b[0m\u001b[0;36m0\u001b[0m\u001b[0;34m]\u001b[0m \u001b[0;34m,\u001b[0m \u001b[0mvArr\u001b[0m\u001b[0;34m[\u001b[0m\u001b[0;36m0\u001b[0m\u001b[0;34m]\u001b[0m\u001b[0;34m,\u001b[0m \u001b[0mmethod\u001b[0m\u001b[0;34m=\u001b[0m\u001b[0;34m'RK45'\u001b[0m\u001b[0;34m,\u001b[0m \u001b[0mt_eval\u001b[0m\u001b[0;34m=\u001b[0m\u001b[0mnp\u001b[0m\u001b[0;34m.\u001b[0m\u001b[0mlinspace\u001b[0m\u001b[0;34m(\u001b[0m\u001b[0;36m0\u001b[0m\u001b[0;34m,\u001b[0m \u001b[0;36m100\u001b[0m\u001b[0;34m,\u001b[0m \u001b[0;36m100\u001b[0m\u001b[0;34m)\u001b[0m\u001b[0;34m)\u001b[0m\u001b[0;34m\u001b[0m\u001b[0;34m\u001b[0m\u001b[0m\n\u001b[0m\u001b[1;32m     41\u001b[0m \u001b[0;34m\u001b[0m\u001b[0m\n\u001b[1;32m     42\u001b[0m     \u001b[0mx_values\u001b[0m \u001b[0;34m=\u001b[0m \u001b[0msolution\u001b[0m\u001b[0;34m.\u001b[0m\u001b[0mx\u001b[0m\u001b[0;34m\u001b[0m\u001b[0;34m\u001b[0m\u001b[0m\n",
            "\u001b[0;32m/usr/local/lib/python3.11/dist-packages/scipy/integrate/_ivp/ivp.py\u001b[0m in \u001b[0;36msolve_ivp\u001b[0;34m(fun, t_span, y0, method, t_eval, dense_output, events, vectorized, args, **options)\u001b[0m\n\u001b[1;32m    575\u001b[0m         \u001b[0;32mraise\u001b[0m \u001b[0mValueError\u001b[0m\u001b[0;34m(\u001b[0m\u001b[0;34mf\"`method` must be one of {METHODS} or OdeSolver class.\"\u001b[0m\u001b[0;34m)\u001b[0m\u001b[0;34m\u001b[0m\u001b[0;34m\u001b[0m\u001b[0m\n\u001b[1;32m    576\u001b[0m \u001b[0;34m\u001b[0m\u001b[0m\n\u001b[0;32m--> 577\u001b[0;31m     \u001b[0mt0\u001b[0m\u001b[0;34m,\u001b[0m \u001b[0mtf\u001b[0m \u001b[0;34m=\u001b[0m \u001b[0mmap\u001b[0m\u001b[0;34m(\u001b[0m\u001b[0mfloat\u001b[0m\u001b[0;34m,\u001b[0m \u001b[0mt_span\u001b[0m\u001b[0;34m)\u001b[0m\u001b[0;34m\u001b[0m\u001b[0;34m\u001b[0m\u001b[0m\n\u001b[0m\u001b[1;32m    578\u001b[0m \u001b[0;34m\u001b[0m\u001b[0m\n\u001b[1;32m    579\u001b[0m     \u001b[0;32mif\u001b[0m \u001b[0margs\u001b[0m \u001b[0;32mis\u001b[0m \u001b[0;32mnot\u001b[0m \u001b[0;32mNone\u001b[0m\u001b[0;34m:\u001b[0m\u001b[0;34m\u001b[0m\u001b[0;34m\u001b[0m\u001b[0m\n",
            "\u001b[0;31mTypeError\u001b[0m: 'int' object is not iterable"
          ]
        }
      ],
      "source": [
        "import numpy as np\n",
        "import matplotlib.pyplot as plt\n",
        "from scipy.integrate import solve_ivp\n",
        "\n",
        "# BVP converted to an IVP 1st Order system\n",
        "def IVP(x, y, v):\n",
        "    y_ = v\n",
        "    v_ = 2 * y**3\n",
        "    return [y_, v_]\n",
        "\n",
        "# Variational equations z\n",
        "def Z(y, z, w):\n",
        "    z_ = w\n",
        "    w_ = 6 * (y**2)*z\n",
        "    return [z_, w_]\n",
        "\n",
        "\n",
        "if __name__ == '__main__':\n",
        "\n",
        "    # points at left and right BC\n",
        "    a = 1\n",
        "    b = 4\n",
        "    alpha = 1\n",
        "    beta = 4\n",
        "\n",
        "    h = (beta - alpha)/(b-a)\n",
        "\n",
        "    # p parameter\n",
        "    p = 0\n",
        "    # initial conditions\n",
        "    yArr = []\n",
        "    yArr.append(p)\n",
        "    vArr = []\n",
        "    vArr.append(-1/4)\n",
        "    zArr = []\n",
        "    zArr.append(1)\n",
        "    wArr = []\n",
        "    wArr.append(1)\n",
        "\n",
        "    solution = solve_ivp(IVP, yArr[0] , vArr[0], method='RK45', t_eval=np.linspace(0, 100, 100))\n",
        "\n",
        "    x_values = solution.x\n",
        "    y_values, v_values = solution.y\n",
        "\n",
        "    plt.figure(figsize=(8, 5))\n",
        "    plt.plot(x_values, y_values, label=\"y(x)\", color=\"b\")\n",
        "    plt.plot(x_values, v_values, label=\"v(x) = y'(x)\", color=\"r\", linestyle=\"dashed\")\n",
        "    plt.xlabel(\"x\")\n",
        "    plt.ylabel(\"Solution\")\n",
        "    plt.legend()\n",
        "    plt.title(\"Solving y'' = 2y^3 using solve_ivp (RK45)\")\n",
        "    plt.grid()\n",
        "    plt.show()\n"
      ]
    },
    {
      "cell_type": "code",
      "source": [
        "import numpy as np\n",
        "from scipy.integrate import solve_ivp\n",
        "\n",
        "# Define the ODE system\n",
        "def ode_system(t, y):\n",
        "    # y[0] is y\n",
        "    # y[1] is v\n",
        "    dydt = y[1]      # y' = v\n",
        "    dvdt = 2 * y[0]**3 # v' = 2y^3\n",
        "    return [dydt, dvdt]\n",
        "\n",
        "# Initial conditions for BOTH y AND v\n",
        "y0 = [0,0]  # y(0) = 1, v(0) = 0  (Set v(0) as needed)\n",
        "\n",
        "# Time span and evaluation points (same as before)\n",
        "t_span = (0, 100)\n",
        "t_eval = np.linspace(0, 100, 100)\n",
        "\n",
        "# Solve the IVP\n",
        "sol = solve_ivp(ode_system, t_span, y0, method='RK45', t_eval=t_eval)\n",
        "\n",
        "# Access the results\n",
        "print(\"Time points:\", sol.t)\n",
        "print(\"Solution values (y and v):\", sol.y)\n",
        "\n",
        "# To access y and v separately:\n",
        "y_solution = sol.y[0]\n",
        "v_solution = sol.y[1]\n",
        "\n",
        "print(\"y solution:\", y_solution)\n",
        "print(\"v solution:\", v_solution)"
      ],
      "metadata": {
        "colab": {
          "base_uri": "https://localhost:8080/"
        },
        "id": "qVnUegHrtNKV",
        "outputId": "a136009f-953d-4227-f5fa-2da18f92b32e"
      },
      "execution_count": 7,
      "outputs": [
        {
          "output_type": "stream",
          "name": "stdout",
          "text": [
            "Time points: [  0.           1.01010101   2.02020202   3.03030303   4.04040404\n",
            "   5.05050505   6.06060606   7.07070707   8.08080808   9.09090909\n",
            "  10.1010101   11.11111111  12.12121212  13.13131313  14.14141414\n",
            "  15.15151515  16.16161616  17.17171717  18.18181818  19.19191919\n",
            "  20.2020202   21.21212121  22.22222222  23.23232323  24.24242424\n",
            "  25.25252525  26.26262626  27.27272727  28.28282828  29.29292929\n",
            "  30.3030303   31.31313131  32.32323232  33.33333333  34.34343434\n",
            "  35.35353535  36.36363636  37.37373737  38.38383838  39.39393939\n",
            "  40.4040404   41.41414141  42.42424242  43.43434343  44.44444444\n",
            "  45.45454545  46.46464646  47.47474747  48.48484848  49.49494949\n",
            "  50.50505051  51.51515152  52.52525253  53.53535354  54.54545455\n",
            "  55.55555556  56.56565657  57.57575758  58.58585859  59.5959596\n",
            "  60.60606061  61.61616162  62.62626263  63.63636364  64.64646465\n",
            "  65.65656566  66.66666667  67.67676768  68.68686869  69.6969697\n",
            "  70.70707071  71.71717172  72.72727273  73.73737374  74.74747475\n",
            "  75.75757576  76.76767677  77.77777778  78.78787879  79.7979798\n",
            "  80.80808081  81.81818182  82.82828283  83.83838384  84.84848485\n",
            "  85.85858586  86.86868687  87.87878788  88.88888889  89.8989899\n",
            "  90.90909091  91.91919192  92.92929293  93.93939394  94.94949495\n",
            "  95.95959596  96.96969697  97.97979798  98.98989899 100.        ]\n",
            "Solution values (y and v): [[0. 0. 0. 0. 0. 0. 0. 0. 0. 0. 0. 0. 0. 0. 0. 0. 0. 0. 0. 0. 0. 0. 0. 0.\n",
            "  0. 0. 0. 0. 0. 0. 0. 0. 0. 0. 0. 0. 0. 0. 0. 0. 0. 0. 0. 0. 0. 0. 0. 0.\n",
            "  0. 0. 0. 0. 0. 0. 0. 0. 0. 0. 0. 0. 0. 0. 0. 0. 0. 0. 0. 0. 0. 0. 0. 0.\n",
            "  0. 0. 0. 0. 0. 0. 0. 0. 0. 0. 0. 0. 0. 0. 0. 0. 0. 0. 0. 0. 0. 0. 0. 0.\n",
            "  0. 0. 0. 0.]\n",
            " [0. 0. 0. 0. 0. 0. 0. 0. 0. 0. 0. 0. 0. 0. 0. 0. 0. 0. 0. 0. 0. 0. 0. 0.\n",
            "  0. 0. 0. 0. 0. 0. 0. 0. 0. 0. 0. 0. 0. 0. 0. 0. 0. 0. 0. 0. 0. 0. 0. 0.\n",
            "  0. 0. 0. 0. 0. 0. 0. 0. 0. 0. 0. 0. 0. 0. 0. 0. 0. 0. 0. 0. 0. 0. 0. 0.\n",
            "  0. 0. 0. 0. 0. 0. 0. 0. 0. 0. 0. 0. 0. 0. 0. 0. 0. 0. 0. 0. 0. 0. 0. 0.\n",
            "  0. 0. 0. 0.]]\n",
            "y solution: [0. 0. 0. 0. 0. 0. 0. 0. 0. 0. 0. 0. 0. 0. 0. 0. 0. 0. 0. 0. 0. 0. 0. 0.\n",
            " 0. 0. 0. 0. 0. 0. 0. 0. 0. 0. 0. 0. 0. 0. 0. 0. 0. 0. 0. 0. 0. 0. 0. 0.\n",
            " 0. 0. 0. 0. 0. 0. 0. 0. 0. 0. 0. 0. 0. 0. 0. 0. 0. 0. 0. 0. 0. 0. 0. 0.\n",
            " 0. 0. 0. 0. 0. 0. 0. 0. 0. 0. 0. 0. 0. 0. 0. 0. 0. 0. 0. 0. 0. 0. 0. 0.\n",
            " 0. 0. 0. 0.]\n",
            "v solution: [0. 0. 0. 0. 0. 0. 0. 0. 0. 0. 0. 0. 0. 0. 0. 0. 0. 0. 0. 0. 0. 0. 0. 0.\n",
            " 0. 0. 0. 0. 0. 0. 0. 0. 0. 0. 0. 0. 0. 0. 0. 0. 0. 0. 0. 0. 0. 0. 0. 0.\n",
            " 0. 0. 0. 0. 0. 0. 0. 0. 0. 0. 0. 0. 0. 0. 0. 0. 0. 0. 0. 0. 0. 0. 0. 0.\n",
            " 0. 0. 0. 0. 0. 0. 0. 0. 0. 0. 0. 0. 0. 0. 0. 0. 0. 0. 0. 0. 0. 0. 0. 0.\n",
            " 0. 0. 0. 0.]\n"
          ]
        }
      ]
    }
  ]
}